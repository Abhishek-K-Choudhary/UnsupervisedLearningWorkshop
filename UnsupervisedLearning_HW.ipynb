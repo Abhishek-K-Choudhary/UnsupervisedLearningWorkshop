{
  "nbformat": 4,
  "nbformat_minor": 0,
  "metadata": {
    "colab": {
      "name": "UnsupervisedLearning_HW.ipynb",
      "provenance": []
    },
    "kernelspec": {
      "name": "python3",
      "display_name": "Python 3"
    },
    "language_info": {
      "name": "python"
    }
  },
  "cells": [
    {
      "cell_type": "markdown",
      "source": [
        "# Homework : Performing PCA and KMeans clustering on the Iris Dataset"
      ],
      "metadata": {
        "id": "kAscz9FkWXlx"
      }
    },
    {
      "cell_type": "code",
      "execution_count": null,
      "metadata": {
        "id": "MdKmToETWRPu"
      },
      "outputs": [],
      "source": [
        "#imports (run cell to import necessary libraries)\n",
        "\n",
        "import numpy as np \n",
        "import pandas as pd \n",
        "import matplotlib.pyplot as plt \n",
        "import seaborn as sns\n",
        "\n",
        "#scaling values\n",
        "from sklearn.preprocessing import StandardScaler\n",
        "\n",
        "#PCA \n",
        "from sklearn.decomposition import PCA \n",
        "\n",
        "#Kmeans \n",
        "from sklearn.cluster import KMeans\n",
        "\n",
        "#for loading dataset\n",
        "from sklearn.datasets import load_iris\n",
        "\n",
        "\n",
        "#set seed for reproduciblity\n",
        "np.random.seed(42)\n",
        "\n",
        "plt.style.use('seaborn-white')"
      ]
    },
    {
      "cell_type": "markdown",
      "source": [
        "1.1) Load the iris dataset by running the cell below. Print the head in the next cell and inspect the values."
      ],
      "metadata": {
        "id": "C8BSa36eXcEC"
      }
    },
    {
      "cell_type": "code",
      "source": [
        "data = load_iris()\n",
        "\n",
        "\n",
        "iris_columns = data['feature_names']\n",
        "X = data['data']  # load the predictors\n",
        "y = data['target'] # load the target\n",
        "\n",
        "target_names = data['target_names'] # name of species\n",
        "\n",
        "print(f'Species of Iris in this dataset are {target_names}')"
      ],
      "metadata": {
        "id": "6ATaAyx-XbcR"
      },
      "execution_count": null,
      "outputs": []
    },
    {
      "cell_type": "code",
      "source": [
        "# print the head of the dataset .\n",
        "\n",
        "df = pd.DataFrame(X,\n",
        "                  columns = iris_columns)\n",
        "df['target'] = y  # store the target variable\n",
        "\n",
        "\n",
        "#code here \n"
      ],
      "metadata": {
        "id": "_mMUJeJ2ZVb3"
      },
      "execution_count": null,
      "outputs": []
    },
    {
      "cell_type": "markdown",
      "source": [
        "1.2) Check for missing values, and datatype of each column using \"df.info()\""
      ],
      "metadata": {
        "id": "f0YnuO0xZzmH"
      }
    },
    {
      "cell_type": "code",
      "source": [
        "#code here \n",
        "\n"
      ],
      "metadata": {
        "id": "ovVJd988X-Dk"
      },
      "execution_count": null,
      "outputs": []
    },
    {
      "cell_type": "markdown",
      "source": [
        "1.3) Plot a seperate scatterplot for each feature vs the target (feature on x-axis,target on y-axis). Make it a point to label your x-axis, y-axis and give appropriate title to each plot.\n"
      ],
      "metadata": {
        "id": "4wVzDPAbaIBp"
      }
    },
    {
      "cell_type": "code",
      "source": [
        "#code here \n",
        "\n",
        "#plot \"sepal length (cm) VS target\""
      ],
      "metadata": {
        "id": "N1Pzbnx1YB_T"
      },
      "execution_count": null,
      "outputs": []
    },
    {
      "cell_type": "code",
      "source": [
        "#code here\n",
        "\n",
        "#plot \"sepal width (cm) VS target\""
      ],
      "metadata": {
        "id": "8epNUciebe6J"
      },
      "execution_count": null,
      "outputs": []
    },
    {
      "cell_type": "code",
      "source": [
        "#code here \n",
        "\n",
        "#plot \"petal length (cm) VS target\"\n"
      ],
      "metadata": {
        "id": "pigWT35PcQYJ"
      },
      "execution_count": null,
      "outputs": []
    },
    {
      "cell_type": "code",
      "source": [
        "#code here \n",
        "\n",
        "#plot \"petal width (cm) VS target\"\n"
      ],
      "metadata": {
        "id": "T1n4bFzkcZxr"
      },
      "execution_count": null,
      "outputs": []
    },
    {
      "cell_type": "markdown",
      "source": [
        "2.1) Scale the dataset of predictor variables (i,e X) using StandardScaler, so that all the features are on a common scale. \n",
        "\n",
        "\n",
        "Remember not to scale the values of the target variable. \n",
        "\n",
        "\n",
        "Store the scaled X in a variable called \"X_scaled\"."
      ],
      "metadata": {
        "id": "GaZ7QaEqcqr4"
      }
    },
    {
      "cell_type": "code",
      "source": [
        "#scale features \n",
        "\n",
        "#code here \n"
      ],
      "metadata": {
        "id": "uTALajPacmC7"
      },
      "execution_count": null,
      "outputs": []
    },
    {
      "cell_type": "markdown",
      "source": [
        "2.2) Plot the Covariance matrix for X_scaled by running the next cell."
      ],
      "metadata": {
        "id": "mCRDj4FkoNn0"
      }
    },
    {
      "cell_type": "code",
      "source": [
        "fig = plt.figure(figsize=(10,7))\n",
        "\n",
        "cov = pd.DataFrame(X_scaled,\n",
        "                   columns = iris_columns).cov() # get covariance matrix\n",
        "\n",
        "plt.title('Covariance Matrix')\n",
        "sns.heatmap(cov)  # plot heatmap\n",
        "plt.show()"
      ],
      "metadata": {
        "id": "KvvmqCcKoNSW"
      },
      "execution_count": null,
      "outputs": []
    },
    {
      "cell_type": "markdown",
      "source": [
        "2.3) Which Two Features show maximum covariance? (hint: look at the colorbar on the extreme right.)"
      ],
      "metadata": {
        "id": "amtc3GlZpklk"
      }
    },
    {
      "cell_type": "code",
      "source": [
        "# your answer \n"
      ],
      "metadata": {
        "id": "w0ORa2A2pwqG"
      },
      "execution_count": null,
      "outputs": []
    },
    {
      "cell_type": "markdown",
      "source": [
        "2.4) Perform PCA on the X_scaled obtained from the cell above. \n",
        "\n",
        "Choose 2 principal components from the data (by setting the argument \"n_components\" = 2 while creating a instance of PCA).\n",
        "\n",
        " Store the results in a variable called \"X_pca\"."
      ],
      "metadata": {
        "id": "eUmo8-MeeEDW"
      }
    },
    {
      "cell_type": "code",
      "source": [
        "#code here \n",
        "pca = PCA(n_components = 2)\n",
        "\n",
        "#code here \n",
        "#fit on scaled data \n",
        "\n",
        "\n",
        "#get the principal components\n",
        "X_pca = \n"
      ],
      "metadata": {
        "id": "eO5E7oRFd_Nz"
      },
      "execution_count": null,
      "outputs": []
    },
    {
      "cell_type": "markdown",
      "source": [
        "2.3) Verify that the shape of \"X_pca\" is (n,2), where n is the number of rows in the data."
      ],
      "metadata": {
        "id": "awHOWbTdfmN0"
      }
    },
    {
      "cell_type": "code",
      "source": [
        "#check shape of X_pca\n",
        "\n",
        "#code here \n"
      ],
      "metadata": {
        "id": "_rkSevxqfw2w"
      },
      "execution_count": null,
      "outputs": []
    },
    {
      "cell_type": "markdown",
      "source": [
        "2.4) Plot a scatterplot with principal component 1 on x axis & principal component 2 on y axis."
      ],
      "metadata": {
        "id": "PaKSgLXLigfn"
      }
    },
    {
      "cell_type": "code",
      "source": [
        "#code here \n",
        "\n"
      ],
      "metadata": {
        "id": "t7V3Tp-UigFr"
      },
      "execution_count": null,
      "outputs": []
    },
    {
      "cell_type": "markdown",
      "source": [
        "3.1) Use KMeans to cluster the principal components obtained above. Set the argument \"n_clusters\" = 3 . Store the predictions in a variable named \"clusters\"."
      ],
      "metadata": {
        "id": "iVuJ-kHqf2L1"
      }
    },
    {
      "cell_type": "code",
      "source": [
        "#code here \n",
        "kmeans = KMeans(n_clusters = 3)\n",
        "\n",
        "#code here \n",
        "\n",
        "#fit kmeans on X_pca\n",
        "\n",
        "#predict \n",
        "clusters = --"
      ],
      "metadata": {
        "id": "4Y6SsD8xfzks"
      },
      "execution_count": null,
      "outputs": []
    },
    {
      "cell_type": "markdown",
      "source": [
        "3.2) Plot the principal components with each point in an cluster represented by a unique color.(run the cell below)"
      ],
      "metadata": {
        "id": "If_JypdwhVcn"
      }
    },
    {
      "cell_type": "code",
      "source": [
        "color_list = ['r','g','b']\n",
        "\n",
        "#color mapped to each cluster\n",
        "color_dict = {i:color_list[i] for i in range(3)}\n",
        "\n",
        "fig = plt.figure(figsize=(10,7))\n",
        "plt.title('Predicted Clusters')\n",
        "\n",
        "# plot a unique color for each cluster\n",
        "for cluster in np.unique(clusters):\n",
        "  X_cls = X_pca[np.where(clusters==cluster,True,False)] #select the cluster points\n",
        "  \n",
        "  cluster_colr =color_dict[cluster]  # get a unique color for each cluster\n",
        "\n",
        "  plt.scatter(X_cls[:,0],X_cls[:,1],label = cluster ,color = cluster_colr) \n",
        "\n",
        "plt.xlabel('PC1')\n",
        "plt.ylabel('PC2')\n",
        "plt.legend()\n",
        "plt.show()"
      ],
      "metadata": {
        "id": "mf1xorWhhSDq"
      },
      "execution_count": null,
      "outputs": []
    },
    {
      "cell_type": "markdown",
      "source": [
        "3.3) Now compare the above plot with the plot of actual labels.(run the cell below)"
      ],
      "metadata": {
        "id": "5kYX4o_ZloNL"
      }
    },
    {
      "cell_type": "code",
      "source": [
        "fig = plt.figure(figsize=(10,7))\n",
        "plt.title('Actual Labels')\n",
        "\n",
        "# plot a unique color for each cluster\n",
        "for label in np.unique(y):\n",
        "  X_lab = X_pca[np.where(y==label,True,False)] #select the points with label\n",
        "  \n",
        "  label_colr = color_dict[label]  # get a unique color for each label\n",
        "\n",
        "  plt.scatter(X_lab[:,0],X_lab[:,1],label = label ,color = label_colr) \n",
        "\n",
        "plt.xlabel('PC1')\n",
        "plt.ylabel('PC2')\n",
        "plt.legend()\n",
        "plt.show()"
      ],
      "metadata": {
        "id": "WdcuuwjEiSaY"
      },
      "execution_count": null,
      "outputs": []
    }
  ]
}